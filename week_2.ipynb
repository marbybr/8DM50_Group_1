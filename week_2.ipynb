{
 "cells": [
  {
   "cell_type": "markdown",
   "metadata": {},
   "source": [
    "# Under- and overfitting, model selection\n",
    "\n",
    "## Preliminaries\n",
    "\n",
    "In the first set of exercises you had to implement the training and evaluation of the linear regression and $k$-NN methods from scratch in order to practice your `numpy` skills. From this set of exercises onward, you can use the implementations provided in `scikit-learn` or other higher-level libraries. We start this set of exercises by demonstrating some of the features of `scikit-learn`.\n",
    "\n",
    "For example, implementation of linear regression model fitting with an analytical solution for the parameters is provided by the class `sklearn.linar_model.LinearRegression`. You can train a linear regression model in the following way:"
   ]
  },
  {
   "cell_type": "code",
   "execution_count": 119,
   "metadata": {},
   "outputs": [
    {
     "data": {
      "text/plain": [
       "LinearRegression(copy_X=True, fit_intercept=True, n_jobs=None, normalize=False)"
      ]
     },
     "execution_count": 119,
     "metadata": {},
     "output_type": "execute_result"
    }
   ],
   "source": [
    "import numpy as np\n",
    "from sklearn import datasets, linear_model\n",
    "\n",
    "# load the diabetes dataset\n",
    "diabetes = datasets.load_diabetes()\n",
    "\n",
    "# use only one feature\n",
    "X = diabetes.data[:, np.newaxis, 2]\n",
    "y = diabetes.target\n",
    "\n",
    "# split the data into training/testing sets\n",
    "X_train = X[:-20]\n",
    "X_test = X[-20:]\n",
    "\n",
    "# split the targets into training/testing sets\n",
    "y_train = y[:-20]\n",
    "y_test = y[-20:]\n",
    "\n",
    "# create linear regression object\n",
    "model = linear_model.LinearRegression()\n",
    "\n",
    "# train the model using the training dataset\n",
    "model.fit(X_train, y_train)"
   ]
  },
  {
   "cell_type": "markdown",
   "metadata": {},
   "source": [
    "Let's visualize the training dataset and the learned regression model."
   ]
  },
  {
   "cell_type": "code",
   "execution_count": 120,
   "metadata": {},
   "outputs": [
    {
     "data": {
      "image/png": "[encoded data removed]",
      "text/plain": [
       "<Figure size 432x288 with 1 Axes>"
      ]
     },
     "metadata": {
      "needs_background": "light"
     },
     "output_type": "display_data"
    }
   ],
   "source": [
    "%matplotlib inline\n",
    "import matplotlib.pyplot as plt\n",
    "\n",
    "fig = plt.figure()\n",
    "plt.plot(X_train, y_train, 'r.', markersize=12)\n",
    "X_edge = np.array([np.min(X_train, 0), np.max(X_train, 0)])\n",
    "plt.plot(X_edge, model.predict(X_edge), 'b-')\n",
    "plt.legend(('Data', 'Linear regression'), loc='lower right')\n",
    "plt.title('Linear regression')\n",
    "plt.xlabel('$x$')\n",
    "plt.ylabel('$y$')\n",
    "plt.show()"
   ]
  },
  {
   "cell_type": "markdown",
   "metadata": {},
   "source": [
    "Once trained, the model can be used to make predictions on the test data:"
   ]
  },
  {
   "cell_type": "code",
   "execution_count": 121,
   "metadata": {},
   "outputs": [],
   "source": [
    "# Make predictions using the testing dataset\n",
    "prediction = model.predict(X_test)"
   ]
  },
  {
   "cell_type": "markdown",
   "metadata": {},
   "source": [
    "The next step (not shown here) is to evaluate the performance of the trained model.\n",
    "\n",
    "Note that the `scikit-learn` interface works by first initializing an object from the class that implements the machine learning model (linear regression in this case) and then fitting the initialized model using the data in the training set. Finally, the trained (fitted) model can be used to make predictions on unseen data. In fact, all models implemented in this library follow the same *initialize-fit-predict* programming interface. For example, a $k$-NN classifier can be trained in the following way:"
   ]
  },
  {
   "cell_type": "code",
   "execution_count": 122,
   "metadata": {
    "ExecuteTime": {
     "end_time": "2024-09-16T19:34:16.826452Z",
     "start_time": "2024-09-16T19:34:16.798676Z"
    }
   },
   "outputs": [],
   "source": [
    "from sklearn.model_selection import train_test_split, GridSearchCV\n",
    "from sklearn import datasets, neighbors\n",
    "\n",
    "breast_cancer = datasets.load_breast_cancer()\n",
    "\n",
    "X = breast_cancer.data\n",
    "y = breast_cancer.target\n",
    "\n",
    "# make use of the train_test_split() utility function instead\n",
    "# of manually dividing the data\n",
    "X_train, X_test, y_train, y_test = train_test_split(X, y, stratify=y, random_state=40)\n",
    "\n",
    "# initialize a 3-NN classifier\n",
    "model = neighbors.KNeighborsClassifier(n_neighbors=3)\n",
    "\n",
    "# train the model using the training dataset\n",
    "model.fit(X_train, y_train)\n",
    "\n",
    "# make predictions using the testing dataset\n",
    "prediction = model.predict(X_test)"
   ]
  },
  {
   "cell_type": "markdown",
   "metadata": {},
   "source": [
    "Note that the features in the breast cancer dataset have different scales (some have on average very small absolute values, and some very large), which means that the distance metric used by $k$-NN will me dominated by the features with large values. You can use any of the number of feature transformation methods implemented in `scikit-learn` to scale the features. For example, you can use the `sklearn.preprocessing.StandardScaler` method to transform all features to a have a zero mean and unit variance:"
   ]
  },
  {
   "cell_type": "code",
   "execution_count": 123,
   "metadata": {},
   "outputs": [],
   "source": [
    "from sklearn.preprocessing import StandardScaler\n",
    "\n",
    "scaler = StandardScaler()\n",
    "scaler.fit(X_train)\n",
    "X_train_scaled = scaler.transform(X_train)"
   ]
  },
  {
   "cell_type": "markdown",
   "metadata": {},
   "source": [
    "The scaler has its own parameters which are the means and standard deviations of the features estimated from the training set. If you train a model with the scaled features, you will have to remember to also apply the scaling transformation every time you make a prediction on new unseen and unscaled data. This is somewhat prone to error. One option for making the code more robust is to create a processing pipeline that includes the scaling and $k$-NN models in a sequence:"
   ]
  },
  {
   "cell_type": "code",
   "execution_count": 124,
   "metadata": {},
   "outputs": [],
   "source": [
    "from sklearn.pipeline import Pipeline\n",
    "\n",
    "knn = neighbors.KNeighborsClassifier(n_neighbors=3)\n",
    "\n",
    "model = Pipeline([\n",
    "                 (\"scaler\", scaler),\n",
    "                 (\"knn\", knn)\n",
    "                ])\n",
    "\n",
    "# train the model using the training dataset\n",
    "model.fit(X_train, y_train)\n",
    "\n",
    "# make predictions using the testing dataset\n",
    "prediction = model.predict(X_test)\n"
   ]
  },
  {
   "cell_type": "markdown",
   "metadata": {},
   "source": [
    "If you are curious, more information about the design of the `scikit-learn` application programming interface (API) can be found [in this paper](https://arxiv.org/pdf/1309.0238.pdf). "
   ]
  },
  {
   "cell_type": "markdown",
   "metadata": {},
   "source": [
    "## Exercises\n",
    "\n",
    "### Bias-variance decomposition\n",
    "\n",
    "Show that the mean squared error of the estimate of a parameter can be decomposed into an expression that includes both the bias and variance (Eq. 5.53-5.54 in \"Deep learning\" by Goodfellow et al.). "
   ]
  },
  {
   "cell_type": "markdown",
   "metadata": {},
   "source": [
    "## Derivation\n",
    "\n",
    "Eq 5.53 states that the MSE can be defined as: $ MSE = E[( \\^{\\theta}_{m} - \\theta)^2] $ Where E represents the expected value, or in other words, the average value of a variable over all samples. $E[\\^{\\theta}_{m}]$ would therefore be the average value of estimator $\\^{\\theta}_{m}$ over all possible samples in the dataset.\n",
    "\n",
    "We can introduce $\\^{\\theta}_{m}$ into the first expression as follows:\n",
    "$$\n",
    "MSE = E[( \\^{\\theta}_{m} - E[\\^{\\theta}_{m}] + E[\\^{\\theta}_{m}] - \\theta)^2]\n",
    "$$\n",
    "\n",
    "We can expand this term as follows:\n",
    "$$\n",
    "MSE = E[( \\^{\\theta}_{m} - E[\\^{\\theta}_{m}])^2] + 2E[( \\^{\\theta}_{m} - E[\\^{\\theta}_{m}])(E[\\^{\\theta}_{m}] - \\^{\\theta}_{m})] + (E[\\^{\\theta}_{m}] - \\theta)^2\n",
    "$$\n",
    "Note that the last term does not have an E in front of it, because it is a constant value and therefore does not really have a meaningful expected value. In addition, the second term $2E[( \\^{\\theta}_{m} - E[\\^{\\theta}_{m}])(E[\\^{\\theta}_{m}] - \\^{\\theta}_{m})]$ is equal to zero as $E[ \\^{\\theta}_{m} - E[\\^{\\theta}_{m}]] = 0$. We can now reduce the earlier definition to:\n",
    "\n",
    "$$\n",
    "MSE = E[( \\^{\\theta}_{m} - E[\\^{\\theta}_{m}])^2] + (E[\\^{\\theta}_{m}] - \\theta)^2\n",
    "$$\n",
    "\n",
    "Where $E[( \\^{\\theta}_{m} - E[\\^{\\theta}_{m}])^2]$ is the variance of the estimator and $(E[\\^{\\theta}_{m}] - \\theta)^2$ is the bias of the estimator.\n",
    "\n",
    "This leads to the final expression:\n",
    "$$\n",
    "MSE = Variance(\\^{\\theta}_{m}) + Bias(\\^{\\theta}_{m})^2\n",
    "$$"
   ]
  },
  {
   "cell_type": "markdown",
   "metadata": {},
   "source": [
    "### Polynomial regression\n",
    "\n",
    "For this exercise we will be using generated data to better show the effects of the different polynomial orders.\n",
    "The data is created using the make_polynomial_regression function."
   ]
  },
  {
   "cell_type": "code",
   "execution_count": 125,
   "metadata": {
    "ExecuteTime": {
     "end_time": "2024-09-16T19:06:56.510912Z",
     "start_time": "2024-09-16T19:06:56.387016Z"
    }
   },
   "outputs": [
    {
     "data": {
      "text/plain": [
       "[<matplotlib.lines.Line2D at 0x161fbc6eb48>]"
      ]
     },
     "execution_count": 125,
     "metadata": {},
     "output_type": "execute_result"
    },
    {
     "data": {
      "image/png": "[encoded data removed]",
      "text/plain": [
       "<Figure size 432x288 with 1 Axes>"
      ]
     },
     "metadata": {
      "needs_background": "light"
     },
     "output_type": "display_data"
    }
   ],
   "source": [
    "%matplotlib inline\n",
    "\n",
    "def generate_dataset(n=100, degree=1, noise=1, factors=None):\n",
    "    # Generates a dataset by adding random noise to a randomly\n",
    "    # generated polynomial function.\n",
    "    \n",
    "    x = np.random.uniform(low=-1, high=1, size=n)\n",
    "    \n",
    "    factors = np.random.uniform(0, 10, degree+1)\n",
    "    \n",
    "    y = np.zeros(x.shape)\n",
    "    \n",
    "    for idx in range(degree+1):\n",
    "        y += factors[idx] * (x ** idx)\n",
    "\n",
    "    # add noise\n",
    "    y += np.random.normal(-noise, noise, n)\n",
    "    \n",
    "    return x, y\n",
    "\n",
    "# load generated data\n",
    "np.random.seed(0)\n",
    "\n",
    "X, y = generate_dataset(n=100, degree=4, noise=1.5)\n",
    "\n",
    "plt.plot(X, y, 'r.', markersize=12)"
   ]
  },
  {
   "cell_type": "markdown",
   "metadata": {},
   "source": [
    "Implement polynomial regression using the `sklearn.preprocessing.PolynomialFeatures` transformation. Using the `sklearn.grid_search.GridSearchCV` class, perform a grid search of the polynomial order hyperparameter space with cross-validation and report the performance on an independent test set.\n",
    "\n",
    "Plot a learning curve that show the validation accuracy as a function of the polynomial order. \n",
    "\n",
    "<p><font color='#770a0a'>Which models have a high bias, and which models have high variance? Motivate your answer.</font><p>\n",
    "    \n",
    "Repeat this experiment, this time using the diabetes dataset instead of the generated data."
   ]
  },
  {
   "cell_type": "code",
   "execution_count": 138,
   "metadata": {},
   "outputs": [],
   "source": [
    "from sklearn.preprocessing import PolynomialFeatures\n",
    "from sklearn.linear_model import LinearRegression\n",
    "from sklearn.model_selection import GridSearchCV\n",
    "from sklearn.pipeline import Pipeline\n",
    "from sklearn.metrics import mean_squared_error"
   ]
  },
  {
   "cell_type": "code",
   "execution_count": 137,
   "metadata": {},
   "outputs": [],
   "source": [
    "#Creating data\n",
    "X_train, X_val, y_train, y_val = train_test_split(X, y, test_size=0.2, random_state=0)\n",
    "X_train = X_train.reshape(-1, 1)\n",
    "X_val = X_val.reshape(-1, 1)\n",
    "\n",
    "#Defining model pipeline\n",
    "\n",
    "model = Pipeline([\n",
    "    (\"polynomial\", PolynomialFeatures()),\n",
    "    (\"linear\", LinearRegression())\n",
    "    ])"
   ]
  },
  {
   "cell_type": "code",
   "execution_count": 136,
   "metadata": {
    "ExecuteTime": {
     "end_time": "2024-09-17T17:30:27.629166Z",
     "start_time": "2024-09-17T17:30:27.528550Z"
    }
   },
   "outputs": [],
   "source": [
    "def compute_best_fit(X,y,max_degree):\n",
    "    \n",
    "    degree_grid = {'polynomial__degree': range(1,max_degree+1)}\n",
    "    \n",
    "    grid_search = GridSearchCV(model, param_grid=degree_grid,cv=5, scoring='neg_mean_squared_error')\n",
    "    grid_search.fit(X,y)\n",
    "    \n",
    "    best_degree = grid_search.best_params_['polynomial__degree']\n",
    "    best_model = grid_search.best_estimator_\n",
    "\n",
    "    # Extract results from grid search\n",
    "    results = grid_search.cv_results_\n",
    "    \n",
    "    return best_model, results"
   ]
  },
  {
   "cell_type": "code",
   "execution_count": 148,
   "metadata": {
    "ExecuteTime": {
     "end_time": "2024-09-17T17:30:29.182656Z",
     "start_time": "2024-09-17T17:30:29.174224Z"
    }
   },
   "outputs": [],
   "source": [
    "def plot_learning_curve(X_train,y_train,X_val,y_val,results):\n",
    "    #export grid search results to get degree and mean error data\n",
    "    degrees = results['param_polynomial__degree'].data\n",
    "    mean_test_scores = -results['mean_test_score']\n",
    "    \n",
    "        # Initialize lists for validation and training error\n",
    "    val_mse = []\n",
    "    train_mse = []\n",
    "\n",
    "    for degree in degrees:\n",
    "        # Set the polynomial degree\n",
    "        model.set_params(polynomial__degree=degree)\n",
    "        \n",
    "        # Fit the model to the training set\n",
    "        model.fit(X_train, y_train)\n",
    "        \n",
    "        # Predict and calculate MSE for validation set\n",
    "        y_val_pred = model.predict(X_val)\n",
    "        y_train_pred = model.predict(X_train)\n",
    "        \n",
    "        val_mse.append(mean_squared_error(y_val, y_val_pred))\n",
    "        train_mse.append(mean_squared_error(y_train, y_train_pred))\n",
    "    \n",
    "    #plot learning curve\n",
    "    plt.figure(figsize=(10, 6))\n",
    "    plt.plot(degrees, val_mse, marker='o', linestyle='-', color='r', label='Validation Error')\n",
    "    plt.plot(degrees, train_mse, marker='o', linestyle='-', color='b', label='Training Error')\n",
    "    plt.xlabel('Polynomial Degree')\n",
    "    plt.ylabel('Mean Squared Error')\n",
    "    plt.title('Learning Curve: Validation Error vs. Polynomial Degree')\n",
    "    plt.xscale('linear')\n",
    "    plt.yscale('linear')\n",
    "    plt.legend()\n",
    "    plt.grid(True)\n",
    "    plt.show()"
   ]
  },
  {
   "cell_type": "code",
   "execution_count": 153,
   "metadata": {
    "ExecuteTime": {
     "end_time": "2024-09-17T17:30:32.259533Z",
     "start_time": "2024-09-17T17:30:32.128218Z"
    }
   },
   "outputs": [
    {
     "data": {
      "image/png": "[encoded data removed]",
      "text/plain": [
       "<Figure size 720x432 with 1 Axes>"
      ]
     },
     "metadata": {
      "needs_background": "light"
     },
     "output_type": "display_data"
    }
   ],
   "source": [
    "best_model, results = compute_best_fit(X_train, y_train,10)\n",
    "plot_learning_curve(X_train,y_train,X_val,y_val,results)"
   ]
  },
  {
   "cell_type": "markdown",
   "metadata": {},
   "source": [
    "### ROC curve analysis\n",
    "A common method to evaluate binary classifiers is the receiver operating characteristic (ROC) curve. Similar to the week one practicals, implement a $k$-NN classifier on the breast cancer dataset, however, his time use the $k$-NN pipeline from the preliminary. Train the model for different values of $k$ and evaluate their respective performance with an ROC curve, use the `sklearn.metrics.roc_curve` function."
   ]
  },
  {
   "cell_type": "code",
   "execution_count": 101,
   "metadata": {
    "ExecuteTime": {
     "end_time": "2024-09-16T19:34:43.178039Z",
     "start_time": "2024-09-16T19:34:43.162168Z"
    }
   },
   "outputs": [],
   "source": [
    "breast_cancer = datasets.load_breast_cancer()\n",
    "\n",
    "X_bc = breast_cancer.data\n",
    "y_bc = breast_cancer.target\n",
    "\n",
    "X_train_bc, X_test_bc, y_train_bc, y_test_bc = train_test_split(X_bc, y_bc, stratify=y, random_state=40)"
   ]
  },
  {
   "cell_type": "code",
   "execution_count": 114,
   "metadata": {
    "ExecuteTime": {
     "end_time": "2024-09-16T19:37:39.264656Z",
     "start_time": "2024-09-16T19:37:38.963090Z"
    }
   },
   "outputs": [
    {
     "data": {
      "image/png": "[encoded data removed]",
      "text/plain": [
       "<Figure size 720x576 with 1 Axes>"
      ]
     },
     "metadata": {
      "needs_background": "light"
     },
     "output_type": "display_data"
    }
   ],
   "source": [
    "from sklearn.pipeline import Pipeline\n",
    "from sklearn.metrics import roc_curve, roc_auc_score\n",
    "\n",
    "plt.figure(figsize=(10, 8))\n",
    "for i in range(1,10):\n",
    "    knn = neighbors.KNeighborsClassifier(n_neighbors=i)\n",
    "    \n",
    "    model = Pipeline([\n",
    "                     (\"scaler\", scaler),\n",
    "                     (\"knn\", knn)\n",
    "                    ])\n",
    "    \n",
    "    # train the model using the training dataset\n",
    "    model.fit(X_train_bc, y_train_bc)\n",
    "    \n",
    "    # make predictions using the testing dataset\n",
    "    prediction = model.predict(X_test_bc)\n",
    "    \n",
    "    # Get the predicted probabilities\n",
    "    y_prob_bc = model.predict_proba(X_test_bc)[:, 1]  # Probabilities for the positive class\n",
    "    \n",
    "    # Compute ROC curve\n",
    "    fpr, tpr, thresholds = roc_curve(y_test_bc, y_prob_bc)\n",
    "    \n",
    "    # Compute AUC\n",
    "    auc = roc_auc_score(y_test_bc, y_prob_bc)\n",
    "    plt.plot(fpr, tpr, marker='o', linestyle='-', label=f'ROC curve (AUC = {auc:.2f})')\n",
    "\n",
    "plt.xlabel('False Positive Rate')\n",
    "plt.ylabel('True Positive Rate')\n",
    "plt.title('ROC Curve')\n",
    "plt.legend()\n",
    "plt.grid(True)\n",
    "plt.show()"
   ]
  },
  {
   "cell_type": "markdown",
   "metadata": {},
   "source": []
  },
  {
   "cell_type": "markdown",
   "metadata": {},
   "source": [
    "### $F_1$ score and Dice similarity coefficient\n",
    "\n",
    "The Dice similarity coefficient is a very popular evaluation measure for image segmentation applications. Assuming that $A$ is the ground truth segmentation of an object represented as a binary image, and $B$ is the binary output of an image segmentation method, the Dice similarity coefficient is computed as:\n",
    "\n",
    "$\\text{Dice}(A,B) = \\frac{2|A\\cap B|}{|A| + |B|}$\n",
    "\n",
    "where $|\\cdot|$ represents the cardinality of the objects (e.g. $|A|$ is the number of non-zero pixels in the ground truth segmentation).\n",
    "\n",
    "For example, the Dice similarity can be computed in the following way:"
   ]
  },
  {
   "cell_type": "code",
   "execution_count": 115,
   "metadata": {
    "ExecuteTime": {
     "end_time": "2024-09-16T19:53:11.905131Z",
     "start_time": "2024-09-16T19:53:11.777563Z"
    }
   },
   "outputs": [
    {
     "name": "stdout",
     "output_type": "stream",
     "text": [
      "0.3402777777777778\n"
     ]
    },
    {
     "data": {
      "image/png": "[encoded data removed]",
      "text/plain": [
       "<Figure size 432x288 with 1 Axes>"
      ]
     },
     "metadata": {
      "needs_background": "light"
     },
     "output_type": "display_data"
    }
   ],
   "source": [
    "# generate some test objecys\n",
    "A = np.zeros((32, 32))\n",
    "A[10:-10, 10:-10] = 1\n",
    "B = np.zeros((32, 32))\n",
    "B[5:-15, 5:-15] = 1\n",
    "\n",
    "dice = 2*np.sum(A*B)/(np.sum(A)+np.sum(B))\n",
    "\n",
    "# display the results\n",
    "plt.plot()\n",
    "plt.imshow(A)\n",
    "plt.imshow(B, alpha=0.7)\n",
    "\n",
    "print(dice)"
   ]
  },
  {
   "cell_type": "markdown",
   "metadata": {},
   "source": [
    "<p><font color='#770a0a'>Show that the $F_1$ score, which is the harmonic mean of precision and recall, is equivalent to the Dice similarity coefficient</font><p>"
   ]
  },
  {
   "cell_type": "markdown",
   "metadata": {},
   "source": [
    "The $F_{1}$ score is defined as:\n",
    "$$\n",
    "F_{1} = \\frac{2 \\times Precision \\times Recall}{Precision + Recall}\n",
    "$$\n",
    "\n",
    "With precision being defined as $Precision = \\frac{TP}{TP+FP}$ and recall as $Recall = \\frac{TP}{TP+FN}$. If we use this in the earlier described equation, we can derive the expression for $F_{1}$ to be equal to:\n",
    "$$\n",
    "F_{1} = \\frac{2 \\times \\frac{TP}{TP+FP} \\times \\frac{TP}{TP+FN}}{\\frac{TP}{TP+FP} + \\frac{TP}{TP+FN}}\n",
    "$$\n",
    "Which we can then further reduce to:\n",
    "$$\n",
    "F_{1} = \\frac{2 \\times \\frac{TP^2}{(TP+FP)(TP+FN)}}{\\frac{TP}{TP+FP}+\\frac{TP}{TP+FN}}\n",
    "$$\n",
    "We can now get rid of the fraction in the numerator as follows:\n",
    "$$\n",
    "F_{1} = 2 \\times\\frac{\\frac{TP^2}{(TP+FP)(TP+FN)}}{\\frac{TP \\times (TP+FN)  + TP \\times (TP+FP)}{(TP+FP) \\times (TP+FN)}}\n",
    "$$\n",
    "In this case, the term $(TP+FP)\\times(TP+FN)$ cancels out as it is present on both sides of the fraction. This then looks like:\n",
    "$$\n",
    "F_{1} = 2 \\times \\frac{TP^2}{TP \\times (TP+FN) + TP \\times (TP+FP)}\n",
    "$$\n",
    "Which can finally be reduced to:\n",
    "$$\n",
    "F_{1} = 2 \\times \\frac{TP}{2TP+FN+FP}\n",
    "$$\n",
    "\n",
    "This is equal to the dice score as |$A\\cap B|$ is equal to TP, $|A|$ is equal to $TP + FN$ and $|B|$ is equal to $TP + FP$.\n"
   ]
  }
 ],
 "metadata": {
  "kernelspec": {
   "display_name": "Python 3",
   "language": "python",
   "name": "python3"
  },
  "language_info": {
   "codemirror_mode": {
    "name": "ipython",
    "version": 3
   },
   "file_extension": ".py",
   "mimetype": "text/x-python",
   "name": "python",
   "nbconvert_exporter": "python",
   "pygments_lexer": "ipython3",
   "version": "3.7.6"
  }
 },
 "nbformat": 4,
 "nbformat_minor": 2
}
